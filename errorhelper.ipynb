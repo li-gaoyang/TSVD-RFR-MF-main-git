{
 "cells": [
  {
   "cell_type": "code",
   "execution_count": 1,
   "metadata": {},
   "outputs": [],
   "source": [
    "import math\n",
    "import numpy as np\n",
    "import os\n",
    "from math import sqrt\n",
    "from sklearn.metrics import mean_absolute_error\n",
    "from sklearn.metrics import mean_squared_error\n",
    "from sklearn.metrics import r2_score\n",
    "import pandas as pd\n",
    "import random\n",
    "# pd.set_option('display.max_rows', None)\n",
    "\n"
   ]
  },
  {
   "cell_type": "code",
   "execution_count": 2,
   "metadata": {},
   "outputs": [],
   "source": [
    "def cal_mae_mse_rmse(path_pre,path_test):\n",
    "    df_pre = pd.read_csv(path_pre, sep=' ',header=None).astype(float)  # 如果是逗号分隔的话\n",
    "    df_pre.columns=['x_coord unit1 scale1', 'y_coord unit1 scale1', 'z_coord unit1 scale1','S2X4_POR unit1 scale1']\n",
    "    df_test = pd.read_csv(path_test).astype(float)  # 如果是逗号分隔的话\n",
    "    # print(df_test.shape,df_pre.shape)\n",
    "    df_test['z_coord unit1 scale1']=df_test['z_coord unit1 scale1'].round(0)\n",
    "    df_pre['z_coord unit1 scale1']=df_pre['z_coord unit1 scale1'].round(0)\n",
    "\n",
    "    df_merge=pd.merge(df_test, df_pre, on=['x_coord unit1 scale1', 'y_coord unit1 scale1', 'z_coord unit1 scale1'], how='left')\n",
    "    df_merge=df_merge.fillna(0)\n",
    "    test_por=df_merge['S2X4_POR unit1 scale1_x']/100\n",
    "    pre_por=df_merge[\"S2X4_POR unit1 scale1_y\"]/100\n",
    "    df_combined = pd.DataFrame({'test_por': test_por, 'pre_por': pre_por})\n",
    "\n",
    "    return np.array([mean_absolute_error(test_por,pre_por),mean_squared_error(test_por,pre_por),sqrt(mean_squared_error(test_por,pre_por))]),df_combined\n"
   ]
  },
  {
   "cell_type": "code",
   "execution_count": 3,
   "metadata": {},
   "outputs": [
    {
     "data": {
      "text/plain": [
       "array([0.04930463, 0.00420477, 0.06484422])"
      ]
     },
     "execution_count": 3,
     "metadata": {},
     "output_type": "execute_result"
    }
   ],
   "source": [
    "path_test_07=\"./test/known_points_test_0.3.csv\"\n",
    "\n",
    "IDW_path_pre_07_5=\"./result/res_IDW_zones_0.7_5_blur.txt\"\n",
    "IDW_error,df_IDW=cal_mae_mse_rmse(IDW_path_pre_07_5,path_test_07)\n",
    "IDW_error"
   ]
  },
  {
   "cell_type": "code",
   "execution_count": 4,
   "metadata": {},
   "outputs": [
    {
     "data": {
      "text/html": [
       "<div>\n",
       "<style scoped>\n",
       "    .dataframe tbody tr th:only-of-type {\n",
       "        vertical-align: middle;\n",
       "    }\n",
       "\n",
       "    .dataframe tbody tr th {\n",
       "        vertical-align: top;\n",
       "    }\n",
       "\n",
       "    .dataframe thead th {\n",
       "        text-align: right;\n",
       "    }\n",
       "</style>\n",
       "<table border=\"1\" class=\"dataframe\">\n",
       "  <thead>\n",
       "    <tr style=\"text-align: right;\">\n",
       "      <th></th>\n",
       "      <th>80%</th>\n",
       "      <th>IDW</th>\n",
       "      <th>RBF</th>\n",
       "      <th>OK</th>\n",
       "      <th>UK</th>\n",
       "      <th>RFS</th>\n",
       "      <th>RFR</th>\n",
       "    </tr>\n",
       "  </thead>\n",
       "  <tbody>\n",
       "    <tr>\n",
       "      <th>0</th>\n",
       "      <td>MAE</td>\n",
       "      <td>0.019210</td>\n",
       "      <td>0.023192</td>\n",
       "      <td>0.017859</td>\n",
       "      <td>0.018399</td>\n",
       "      <td>0.019298</td>\n",
       "      <td>0.010625</td>\n",
       "    </tr>\n",
       "    <tr>\n",
       "      <th>1</th>\n",
       "      <td>MSE</td>\n",
       "      <td>0.000655</td>\n",
       "      <td>0.000889</td>\n",
       "      <td>0.000562</td>\n",
       "      <td>0.000607</td>\n",
       "      <td>0.000671</td>\n",
       "      <td>0.000184</td>\n",
       "    </tr>\n",
       "    <tr>\n",
       "      <th>2</th>\n",
       "      <td>RMSE</td>\n",
       "      <td>0.025595</td>\n",
       "      <td>0.029814</td>\n",
       "      <td>0.023710</td>\n",
       "      <td>0.024636</td>\n",
       "      <td>0.025900</td>\n",
       "      <td>0.013562</td>\n",
       "    </tr>\n",
       "  </tbody>\n",
       "</table>\n",
       "</div>"
      ],
      "text/plain": [
       "    80%       IDW       RBF        OK        UK       RFS       RFR\n",
       "0   MAE  0.019210  0.023192  0.017859  0.018399  0.019298  0.010625\n",
       "1   MSE  0.000655  0.000889  0.000562  0.000607  0.000671  0.000184\n",
       "2  RMSE  0.025595  0.029814  0.023710  0.024636  0.025900  0.013562"
      ]
     },
     "execution_count": 4,
     "metadata": {},
     "output_type": "execute_result"
    }
   ],
   "source": [
    "path_test_08=\"./test/known_points_test_0.2.csv\"\n",
    "\n",
    "IDW_path_pre_08_5=\"./result/res_IDW_zones_0.8_5_blur.txt\"\n",
    "IDW_error,df_IDW=cal_mae_mse_rmse(IDW_path_pre_08_5,path_test_08)\n",
    "\n",
    "RBF_path_pre_08_5=\"./result/res_RBF_zones_0.8_5_blur.txt\"\n",
    "RBF_error,df_RBF=cal_mae_mse_rmse(RBF_path_pre_08_5,path_test_08)\n",
    "\n",
    "OK_path_pre_08_5=\"./result/res_OK_zones_0.8_5_blur.txt\"\n",
    "OK_error,df_OK=cal_mae_mse_rmse(OK_path_pre_08_5,path_test_08)\n",
    "\n",
    "UK_path_pre_08_5=\"./result/res_UK_zones_0.8_5_blur.txt\"\n",
    "UK_error,df_UK=cal_mae_mse_rmse(UK_path_pre_08_5,path_test_08)\n",
    "\n",
    "RFS_path_pre_08_5=\"./result/res_RFS_zones_0.8_5_blur.txt\"\n",
    "RFS_error,df_RFS=cal_mae_mse_rmse(RFS_path_pre_08_5,path_test_08)\n",
    "\n",
    "RFR_path_pre_08_5=\"./result/res_RFR_zones_0.8_5_blur.txt\"\n",
    "RFR_error,df_RFR=cal_mae_mse_rmse(RFR_path_pre_08_5,path_test_08)\n",
    "\n",
    "df_error_08 = pd.DataFrame()\n",
    "df_error_08['80%']=['MAE','MSE','RMSE']\n",
    "df_error_08['IDW'] =IDW_error\n",
    "df_error_08['RBF'] =RBF_error\n",
    "df_error_08['OK'] =OK_error\n",
    "df_error_08['UK'] =UK_error\n",
    "df_error_08['RFS'] =RFS_error\n",
    "df_error_08['RFR'] =RFR_error\n",
    "df_error_08\n"
   ]
  },
  {
   "cell_type": "code",
   "execution_count": 6,
   "metadata": {},
   "outputs": [
    {
     "name": "stdout",
     "output_type": "stream",
     "text": [
      "UQ_IDW.txt 264.3381 47858 0.000552338376029086\n",
      "UQ_RBF.txt 350.9237 46057 0.0007619334737390624\n",
      "UQ_OK.txt 198.3906 50193 0.00039525551371705225\n",
      "UQ_RFR.txt 187.23127823129212 50413 0.00037139483512445623\n"
     ]
    }
   ],
   "source": [
    "def cal_UQ(path):\n",
    "    #  读取文件内容并转换为list\n",
    "    with open(path, \"r\", encoding=\"utf-8\") as file:\n",
    "        lines = file.readlines()\n",
    "    # 去除每行末尾的换行符并返回list\n",
    "    lines = [line.strip() for line in lines]\n",
    "    lines=[item for item in lines if item != '']\n",
    "    float_data = [list(map(float, item.split())) for item in lines]\n",
    "    numpy_array = np.array(float_data)\n",
    "    mse_all=(numpy_array.reshape(-1))\n",
    "\n",
    "    mean_value = np.sum(mse_all) / len(mse_all)/10\n",
    "    print(path,np.sum(mse_all),len(mse_all),mean_value)\n",
    "    len(mse_all)\n",
    "    for v in mse_all:\n",
    "        if v>400:\n",
    "            print(v)\n",
    "    return mean_value\n",
    "\n",
    "UQ_IDW=cal_UQ(\"UQ_IDW.txt\")\n",
    "UQ_RBF=cal_UQ(\"UQ_RBF.txt\")\n",
    "UQ_OK=cal_UQ(\"UQ_OK.txt\")\n",
    "UQ_RFR=cal_UQ(\"UQ_RFR.txt\")"
   ]
  }
 ],
 "metadata": {
  "kernelspec": {
   "display_name": "Python 3.8.16 ('torch38')",
   "language": "python",
   "name": "python3"
  },
  "language_info": {
   "codemirror_mode": {
    "name": "ipython",
    "version": 3
   },
   "file_extension": ".py",
   "mimetype": "text/x-python",
   "name": "python",
   "nbconvert_exporter": "python",
   "pygments_lexer": "ipython3",
   "version": "3.8.18"
  },
  "orig_nbformat": 4,
  "vscode": {
   "interpreter": {
    "hash": "b69bc1f9e1f1f65de9988c0ea2a3ce73f7622d377ab8320ccd5dc120069c42ee"
   }
  }
 },
 "nbformat": 4,
 "nbformat_minor": 2
}
