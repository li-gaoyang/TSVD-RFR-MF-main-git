{
 "cells": [
  {
   "cell_type": "code",
   "execution_count": 1,
   "metadata": {},
   "outputs": [],
   "source": [
    "import math\n",
    "import numpy as np\n",
    "import os\n",
    "from math import sqrt\n",
    "from sklearn.metrics import mean_absolute_error\n",
    "from sklearn.metrics import mean_squared_error\n",
    "from sklearn.metrics import r2_score\n",
    "import pandas as pd\n",
    "from io import StringIO\n",
    "from helper import pd2Gslib,read_gslib_formate"
   ]
  },
  {
   "cell_type": "code",
   "execution_count": 5,
   "metadata": {},
   "outputs": [
    {
     "name": "stdout",
     "output_type": "stream",
     "text": [
      "(64508, 7) (626641, 9)\n"
     ]
    }
   ],
   "source": [
    "method = \"RFR\"\n",
    "blur_flag = \"blur\"\n",
    "split_size = 0.8\n",
    "vertical_range = 5\n",
    "df = read_gslib_formate(welllogpath=\"./all_samples/W51_por_scale_up\").astype(float)\n",
    "df[\"z_coord unit1 scale1\"] = df[\"z_coord unit1 scale1\"].round(2)\n",
    "res_points = pd.read_csv(\n",
    "    \"./result/res_{}_zones_{}_{}_{}.txt\".format(\n",
    "        method, str(split_size), str(vertical_range), blur_flag\n",
    "    ),\n",
    "    sep=\" \",\n",
    "    header=None,\n",
    ").astype(float)\n",
    "res_points.columns = [\n",
    "    \"x_coord unit1 scale1\",\n",
    "    \"y_coord unit1 scale1\",\n",
    "    \"z_coord unit1 scale1\",\n",
    "    \"{}_{}_{}_{}_por\".format(method, str(split_size), str(vertical_range), blur_flag),\n",
    "    \"i_index unit1 scale1\",\n",
    "    \"j_index unit1 scale1\",\n",
    "    \"k_index unit1 scale1\",\n",
    "]\n",
    "res_points[\"z_coord unit1 scale1\"] = res_points[\"z_coord unit1 scale1\"]\n",
    "print(res_points.shape, df.shape)\n",
    "pd2Gslib(\n",
    "    res_points,\n",
    "    df,\n",
    "    petrel_formate_savepath=\"./result/res_{}_{}_{}_{}_petrel_Gslibformat.txt\".format(\n",
    "        method, str(split_size), str(vertical_range), blur_flag\n",
    "    ),\n",
    ")\n",
    "\n"
   ]
  }
 ],
 "metadata": {
  "kernelspec": {
   "display_name": "Python 3.8.16 ('torch38')",
   "language": "python",
   "name": "python3"
  },
  "language_info": {
   "codemirror_mode": {
    "name": "ipython",
    "version": 3
   },
   "file_extension": ".py",
   "mimetype": "text/x-python",
   "name": "python",
   "nbconvert_exporter": "python",
   "pygments_lexer": "ipython3",
   "version": "3.8.18"
  },
  "orig_nbformat": 4,
  "vscode": {
   "interpreter": {
    "hash": "b69bc1f9e1f1f65de9988c0ea2a3ce73f7622d377ab8320ccd5dc120069c42ee"
   }
  }
 },
 "nbformat": 4,
 "nbformat_minor": 2
}
